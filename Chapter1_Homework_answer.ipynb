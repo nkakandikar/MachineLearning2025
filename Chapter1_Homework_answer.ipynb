{
 "cells": [
  {
   "cell_type": "code",
   "execution_count": 3,
   "id": "9b648eb3-f2d2-44f9-856b-a2e0dc169fd4",
   "metadata": {},
   "outputs": [],
   "source": [
    "import pandas as pd "
   ]
  },
  {
   "cell_type": "code",
   "execution_count": 11,
   "id": "cf426245-9069-4dc6-b54a-54d48667f0be",
   "metadata": {},
   "outputs": [],
   "source": [
    "df = pd.read_csv('https://raw.githubusercontent.com/alexeygrigorev/datasets/master/car_fuel_efficiency.csv')\n"
   ]
  },
  {
   "cell_type": "code",
   "execution_count": 12,
   "id": "aa363ca1-79c5-4324-bf85-b665d3b1574e",
   "metadata": {},
   "outputs": [
    {
     "data": {
      "text/html": [
       "<div>\n",
       "<style scoped>\n",
       "    .dataframe tbody tr th:only-of-type {\n",
       "        vertical-align: middle;\n",
       "    }\n",
       "\n",
       "    .dataframe tbody tr th {\n",
       "        vertical-align: top;\n",
       "    }\n",
       "\n",
       "    .dataframe thead th {\n",
       "        text-align: right;\n",
       "    }\n",
       "</style>\n",
       "<table border=\"1\" class=\"dataframe\">\n",
       "  <thead>\n",
       "    <tr style=\"text-align: right;\">\n",
       "      <th></th>\n",
       "      <th>engine_displacement</th>\n",
       "      <th>num_cylinders</th>\n",
       "      <th>horsepower</th>\n",
       "      <th>vehicle_weight</th>\n",
       "      <th>acceleration</th>\n",
       "      <th>model_year</th>\n",
       "      <th>origin</th>\n",
       "      <th>fuel_type</th>\n",
       "      <th>drivetrain</th>\n",
       "      <th>num_doors</th>\n",
       "      <th>fuel_efficiency_mpg</th>\n",
       "    </tr>\n",
       "  </thead>\n",
       "  <tbody>\n",
       "    <tr>\n",
       "      <th>0</th>\n",
       "      <td>170</td>\n",
       "      <td>3.0</td>\n",
       "      <td>159.0</td>\n",
       "      <td>3413.433759</td>\n",
       "      <td>17.7</td>\n",
       "      <td>2003</td>\n",
       "      <td>Europe</td>\n",
       "      <td>Gasoline</td>\n",
       "      <td>All-wheel drive</td>\n",
       "      <td>0.0</td>\n",
       "      <td>13.231729</td>\n",
       "    </tr>\n",
       "    <tr>\n",
       "      <th>1</th>\n",
       "      <td>130</td>\n",
       "      <td>5.0</td>\n",
       "      <td>97.0</td>\n",
       "      <td>3149.664934</td>\n",
       "      <td>17.8</td>\n",
       "      <td>2007</td>\n",
       "      <td>USA</td>\n",
       "      <td>Gasoline</td>\n",
       "      <td>Front-wheel drive</td>\n",
       "      <td>0.0</td>\n",
       "      <td>13.688217</td>\n",
       "    </tr>\n",
       "    <tr>\n",
       "      <th>2</th>\n",
       "      <td>170</td>\n",
       "      <td>NaN</td>\n",
       "      <td>78.0</td>\n",
       "      <td>3079.038997</td>\n",
       "      <td>15.1</td>\n",
       "      <td>2018</td>\n",
       "      <td>Europe</td>\n",
       "      <td>Gasoline</td>\n",
       "      <td>Front-wheel drive</td>\n",
       "      <td>0.0</td>\n",
       "      <td>14.246341</td>\n",
       "    </tr>\n",
       "    <tr>\n",
       "      <th>3</th>\n",
       "      <td>220</td>\n",
       "      <td>4.0</td>\n",
       "      <td>NaN</td>\n",
       "      <td>2542.392402</td>\n",
       "      <td>20.2</td>\n",
       "      <td>2009</td>\n",
       "      <td>USA</td>\n",
       "      <td>Diesel</td>\n",
       "      <td>All-wheel drive</td>\n",
       "      <td>2.0</td>\n",
       "      <td>16.912736</td>\n",
       "    </tr>\n",
       "    <tr>\n",
       "      <th>4</th>\n",
       "      <td>210</td>\n",
       "      <td>1.0</td>\n",
       "      <td>140.0</td>\n",
       "      <td>3460.870990</td>\n",
       "      <td>14.4</td>\n",
       "      <td>2009</td>\n",
       "      <td>Europe</td>\n",
       "      <td>Gasoline</td>\n",
       "      <td>All-wheel drive</td>\n",
       "      <td>2.0</td>\n",
       "      <td>12.488369</td>\n",
       "    </tr>\n",
       "    <tr>\n",
       "      <th>...</th>\n",
       "      <td>...</td>\n",
       "      <td>...</td>\n",
       "      <td>...</td>\n",
       "      <td>...</td>\n",
       "      <td>...</td>\n",
       "      <td>...</td>\n",
       "      <td>...</td>\n",
       "      <td>...</td>\n",
       "      <td>...</td>\n",
       "      <td>...</td>\n",
       "      <td>...</td>\n",
       "    </tr>\n",
       "    <tr>\n",
       "      <th>9699</th>\n",
       "      <td>140</td>\n",
       "      <td>5.0</td>\n",
       "      <td>164.0</td>\n",
       "      <td>2981.107371</td>\n",
       "      <td>17.3</td>\n",
       "      <td>2013</td>\n",
       "      <td>Europe</td>\n",
       "      <td>Diesel</td>\n",
       "      <td>Front-wheel drive</td>\n",
       "      <td>NaN</td>\n",
       "      <td>15.101802</td>\n",
       "    </tr>\n",
       "    <tr>\n",
       "      <th>9700</th>\n",
       "      <td>180</td>\n",
       "      <td>NaN</td>\n",
       "      <td>154.0</td>\n",
       "      <td>2439.525729</td>\n",
       "      <td>15.0</td>\n",
       "      <td>2004</td>\n",
       "      <td>USA</td>\n",
       "      <td>Gasoline</td>\n",
       "      <td>All-wheel drive</td>\n",
       "      <td>0.0</td>\n",
       "      <td>17.962326</td>\n",
       "    </tr>\n",
       "    <tr>\n",
       "      <th>9701</th>\n",
       "      <td>220</td>\n",
       "      <td>2.0</td>\n",
       "      <td>138.0</td>\n",
       "      <td>2583.471318</td>\n",
       "      <td>15.1</td>\n",
       "      <td>2008</td>\n",
       "      <td>USA</td>\n",
       "      <td>Diesel</td>\n",
       "      <td>All-wheel drive</td>\n",
       "      <td>-1.0</td>\n",
       "      <td>17.186587</td>\n",
       "    </tr>\n",
       "    <tr>\n",
       "      <th>9702</th>\n",
       "      <td>230</td>\n",
       "      <td>4.0</td>\n",
       "      <td>177.0</td>\n",
       "      <td>2905.527390</td>\n",
       "      <td>19.4</td>\n",
       "      <td>2011</td>\n",
       "      <td>USA</td>\n",
       "      <td>Diesel</td>\n",
       "      <td>Front-wheel drive</td>\n",
       "      <td>1.0</td>\n",
       "      <td>15.331551</td>\n",
       "    </tr>\n",
       "    <tr>\n",
       "      <th>9703</th>\n",
       "      <td>270</td>\n",
       "      <td>3.0</td>\n",
       "      <td>140.0</td>\n",
       "      <td>2908.043477</td>\n",
       "      <td>14.7</td>\n",
       "      <td>2005</td>\n",
       "      <td>Asia</td>\n",
       "      <td>Diesel</td>\n",
       "      <td>All-wheel drive</td>\n",
       "      <td>-1.0</td>\n",
       "      <td>14.884467</td>\n",
       "    </tr>\n",
       "  </tbody>\n",
       "</table>\n",
       "<p>9704 rows × 11 columns</p>\n",
       "</div>"
      ],
      "text/plain": [
       "      engine_displacement  num_cylinders  horsepower  vehicle_weight  \\\n",
       "0                     170            3.0       159.0     3413.433759   \n",
       "1                     130            5.0        97.0     3149.664934   \n",
       "2                     170            NaN        78.0     3079.038997   \n",
       "3                     220            4.0         NaN     2542.392402   \n",
       "4                     210            1.0       140.0     3460.870990   \n",
       "...                   ...            ...         ...             ...   \n",
       "9699                  140            5.0       164.0     2981.107371   \n",
       "9700                  180            NaN       154.0     2439.525729   \n",
       "9701                  220            2.0       138.0     2583.471318   \n",
       "9702                  230            4.0       177.0     2905.527390   \n",
       "9703                  270            3.0       140.0     2908.043477   \n",
       "\n",
       "      acceleration  model_year  origin fuel_type         drivetrain  \\\n",
       "0             17.7        2003  Europe  Gasoline    All-wheel drive   \n",
       "1             17.8        2007     USA  Gasoline  Front-wheel drive   \n",
       "2             15.1        2018  Europe  Gasoline  Front-wheel drive   \n",
       "3             20.2        2009     USA    Diesel    All-wheel drive   \n",
       "4             14.4        2009  Europe  Gasoline    All-wheel drive   \n",
       "...            ...         ...     ...       ...                ...   \n",
       "9699          17.3        2013  Europe    Diesel  Front-wheel drive   \n",
       "9700          15.0        2004     USA  Gasoline    All-wheel drive   \n",
       "9701          15.1        2008     USA    Diesel    All-wheel drive   \n",
       "9702          19.4        2011     USA    Diesel  Front-wheel drive   \n",
       "9703          14.7        2005    Asia    Diesel    All-wheel drive   \n",
       "\n",
       "      num_doors  fuel_efficiency_mpg  \n",
       "0           0.0            13.231729  \n",
       "1           0.0            13.688217  \n",
       "2           0.0            14.246341  \n",
       "3           2.0            16.912736  \n",
       "4           2.0            12.488369  \n",
       "...         ...                  ...  \n",
       "9699        NaN            15.101802  \n",
       "9700        0.0            17.962326  \n",
       "9701       -1.0            17.186587  \n",
       "9702        1.0            15.331551  \n",
       "9703       -1.0            14.884467  \n",
       "\n",
       "[9704 rows x 11 columns]"
      ]
     },
     "execution_count": 12,
     "metadata": {},
     "output_type": "execute_result"
    }
   ],
   "source": [
    "df"
   ]
  },
  {
   "cell_type": "code",
   "execution_count": 13,
   "id": "b779b585-cf12-463f-b978-dd164961a151",
   "metadata": {},
   "outputs": [
    {
     "name": "stdout",
     "output_type": "stream",
     "text": [
      "Distinct Name count: 2\n"
     ]
    }
   ],
   "source": [
    "distinct_name_count = df['fuel_type'].nunique()\n",
    "\n",
    "print(\"Distinct Name count:\", distinct_name_count)"
   ]
  },
  {
   "cell_type": "code",
   "execution_count": 15,
   "id": "efa3b5a8-26a6-42c8-900c-93eddc2be2b4",
   "metadata": {},
   "outputs": [
    {
     "name": "stdout",
     "output_type": "stream",
     "text": [
      "fuel_efficiency_mpg: 25.96722204888372\n"
     ]
    }
   ],
   "source": [
    "fuel_efficiency_mpg = df['fuel_efficiency_mpg'].max()\n",
    "\n",
    "print(\"fuel_efficiency_mpg:\", fuel_efficiency_mpg)"
   ]
  },
  {
   "cell_type": "code",
   "execution_count": 20,
   "id": "e8432149-fa10-4875-a89e-633ae15a14ce",
   "metadata": {},
   "outputs": [
    {
     "name": "stdout",
     "output_type": "stream",
     "text": [
      "Max value: 25.96722204888372\n"
     ]
    }
   ],
   "source": [
    "max_value = df['fuel_efficiency_mpg'].max() \n",
    "print(\"Max value:\", max_value)"
   ]
  },
  {
   "cell_type": "code",
   "execution_count": 18,
   "id": "c8f938cb-8532-4224-891c-944ec4f3244f",
   "metadata": {},
   "outputs": [
    {
     "name": "stdout",
     "output_type": "stream",
     "text": [
      "Median horsepower: 149.0\n"
     ]
    }
   ],
   "source": [
    "median_hp = df['horsepower'].median()\n",
    "print(\"Median horsepower:\", median_hp)"
   ]
  },
  {
   "cell_type": "code",
   "execution_count": 21,
   "id": "39b3c323-bf1b-4f0f-bd45-12b657834342",
   "metadata": {},
   "outputs": [
    {
     "name": "stdout",
     "output_type": "stream",
     "text": [
      "origin\n",
      "Asia      23.759123\n",
      "Europe    25.967222\n",
      "USA       24.971452\n",
      "Name: fuel_efficiency_mpg, dtype: float64\n"
     ]
    }
   ],
   "source": [
    "max_values_by_area = df.groupby('origin')['fuel_efficiency_mpg'].max()\n",
    "print(max_values_by_area)"
   ]
  },
  {
   "cell_type": "code",
   "execution_count": 22,
   "id": "26680189-1181-420f-9a9f-8c99b57b4aca",
   "metadata": {},
   "outputs": [
    {
     "name": "stdout",
     "output_type": "stream",
     "text": [
      "Number of columns with missing values: 4\n"
     ]
    }
   ],
   "source": [
    "missing_columns_count = df.isnull().any().sum()\n",
    "print(\"Number of columns with missing values:\", missing_columns_count)"
   ]
  },
  {
   "cell_type": "code",
   "execution_count": 23,
   "id": "1a57b6db-42cd-4213-9dfd-134b61b196c3",
   "metadata": {},
   "outputs": [
    {
     "name": "stdout",
     "output_type": "stream",
     "text": [
      "Median horsepower before filling missing values: 149.0\n",
      "Most frequent horsepower value: 152.0\n",
      "Median horsepower after filling missing values: 152.0\n"
     ]
    }
   ],
   "source": [
    "# 1. Find the median value of horsepower (before filling missing values)\n",
    "median_before = df['horsepower'].median()\n",
    "print(\"Median horsepower before filling missing values:\", median_before)\n",
    "\n",
    "# 2. Calculate the most frequent value (mode) of horsepower\n",
    "mode_hp = df['horsepower'].mode()[0]  # mode() returns a Series, take first value\n",
    "print(\"Most frequent horsepower value:\", mode_hp)\n",
    "\n",
    "# 3. Fill missing values in horsepower with the most frequent value\n",
    "df['horsepower'] = df['horsepower'].fillna(mode_hp)\n",
    "\n",
    "# 4. Calculate the median value of horsepower after filling missing values\n",
    "median_after = df['horsepower'].median()\n",
    "print(\"Median horsepower after filling missing values:\", median_after)"
   ]
  },
  {
   "cell_type": "code",
   "execution_count": 26,
   "id": "2fc46ac2-d45d-4f87-8b83-d5d17dd64220",
   "metadata": {},
   "outputs": [],
   "source": [
    "import numpy as np\n",
    "\n",
    "# 1. Select all cars from Asia\n",
    "df_asia = df[df['origin'] == 'Asia']\n",
    "\n",
    "# 2. Select only columns vehicle_weight and model_year\n",
    "df_selected = df_asia[['vehicle_weight', 'model_year']]\n",
    "\n",
    "# 3. Select the first 7 values\n",
    "df_first7 = df_selected.head(7)\n",
    "\n",
    "# 4. Get underlying NumPy array\n",
    "X = df_first7.to_numpy()\n",
    "\n",
    "# 5. Compute XTX = X.T @ X\n",
    "XTX = X.T @ X\n",
    "\n",
    "# 6. Invert XTX\n",
    "XTX_inv = np.linalg.inv(XTX)\n",
    "\n",
    "# 7. Create array y\n",
    "y = np.array([1100, 1300, 800, 900, 1000, 1100, 1200])\n",
    "\n",
    "# 8. Compute w = XTX_inv @ X.T @ y\n",
    "w = XTX_inv @ X.T @ y\n"
   ]
  },
  {
   "cell_type": "code",
   "execution_count": 28,
   "id": "8cb588e6-7fe3-4fd6-92f8-1db50f655a6d",
   "metadata": {},
   "outputs": [],
   "source": [
    "import numpy as np"
   ]
  },
  {
   "cell_type": "code",
   "execution_count": 29,
   "id": "eca0cc53-fa80-477b-863e-ac6d1b68e011",
   "metadata": {},
   "outputs": [],
   "source": [
    "# 1. Select all cars from Asia\n",
    "df_asia = df[df['origin'] == 'Asia']"
   ]
  },
  {
   "cell_type": "code",
   "execution_count": 30,
   "id": "ca4d923e-5109-4bca-8070-a3a1dd884a1d",
   "metadata": {},
   "outputs": [],
   "source": [
    "# 2. Select only columns vehicle_weight and model_year\n",
    "df_selected = df_asia[['vehicle_weight', 'model_year']]"
   ]
  },
  {
   "cell_type": "code",
   "execution_count": 31,
   "id": "ff2f35ec-19ae-475c-b36a-41728518a24a",
   "metadata": {},
   "outputs": [],
   "source": [
    "\n",
    "# 3. Select the first 7 values\n",
    "df_first7 = df_selected.head(7)"
   ]
  },
  {
   "cell_type": "code",
   "execution_count": 32,
   "id": "c293c880-8ce3-4f80-a1c0-96d6e6abe687",
   "metadata": {},
   "outputs": [],
   "source": [
    "# 4. Get underlying NumPy array\n",
    "X = df_first7.to_numpy()"
   ]
  },
  {
   "cell_type": "code",
   "execution_count": 33,
   "id": "3072204f-30ed-4c41-80d6-53c89ec631fa",
   "metadata": {},
   "outputs": [],
   "source": [
    "# 5. Compute XTX = X.T @ X\n",
    "XTX = X.T @ X"
   ]
  },
  {
   "cell_type": "code",
   "execution_count": 34,
   "id": "477dddaa-7a02-4c0d-b100-3384b4c8c13f",
   "metadata": {},
   "outputs": [],
   "source": [
    "# 6. Invert XTX\n",
    "XTX_inv = np.linalg.inv(XTX)"
   ]
  },
  {
   "cell_type": "code",
   "execution_count": 35,
   "id": "bb3a53a8-daf0-48d4-9cc3-7826e6b1aba2",
   "metadata": {},
   "outputs": [],
   "source": [
    "# 7. Create array y\n",
    "y = np.array([1100, 1300, 800, 900, 1000, 1100, 1200])"
   ]
  },
  {
   "cell_type": "code",
   "execution_count": 36,
   "id": "c28098c6-6316-465e-bbde-9cf7334a502c",
   "metadata": {},
   "outputs": [],
   "source": [
    "\n",
    "# 8. Compute w = XTX_inv @ X.T @ y\n",
    "w = XTX_inv @ X.T @ y"
   ]
  },
  {
   "cell_type": "code",
   "execution_count": 38,
   "id": "e4480a32-7035-4fab-a8af-e176118b53ae",
   "metadata": {},
   "outputs": [
    {
     "data": {
      "text/plain": [
       "array([0.01386421, 0.5049067 ])"
      ]
     },
     "execution_count": 38,
     "metadata": {},
     "output_type": "execute_result"
    }
   ],
   "source": [
    "w"
   ]
  },
  {
   "cell_type": "code",
   "execution_count": 39,
   "id": "d9a89839-45e4-473a-81a9-5b7b5e987c57",
   "metadata": {},
   "outputs": [],
   "source": [
    "import numpy as np\n",
    "\n",
    "# Step 1: Filter rows where cars are from Asia\n",
    "df_asia = df[df['origin'] == 'Asia']\n",
    "\n",
    "# Step 2: Select only vehicle_weight and model_year columns\n",
    "df_selected = df_asia[['vehicle_weight', 'model_year']]\n",
    "\n",
    "# Step 3: Take the first 7 rows\n",
    "df_first7 = df_selected.head(7)\n",
    "\n",
    "# Step 4: Get the underlying NumPy array X\n",
    "X = df_first7.to_numpy()\n",
    "\n",
    "# Step 5: Compute XTX = X.T @ X\n",
    "XTX = X.T @ X\n",
    "\n",
    "# Step 6: Invert XTX\n",
    "XTX_inv = np.linalg.inv(XTX)\n",
    "\n",
    "# Create array y\n",
    "y = np.array([1100, 1300, 800, 900, 1000, 1100, 1200])\n",
    "\n",
    "# Step 7: Compute w = inv(XTX) @ X.T @ y\n",
    "w = XTX_inv @ X.T @ y"
   ]
  },
  {
   "cell_type": "code",
   "execution_count": 40,
   "id": "3abbac5e-34d0-45d7-be83-6567826b5fd1",
   "metadata": {},
   "outputs": [
    {
     "data": {
      "text/plain": [
       "array([0.01386421, 0.5049067 ])"
      ]
     },
     "execution_count": 40,
     "metadata": {},
     "output_type": "execute_result"
    }
   ],
   "source": [
    "w"
   ]
  },
  {
   "cell_type": "code",
   "execution_count": 41,
   "id": "aaa4c377-f242-4bed-a13c-7ba7a56f1d2e",
   "metadata": {},
   "outputs": [
    {
     "name": "stdout",
     "output_type": "stream",
     "text": [
      "Sum of all elements in w: 0.5187709081074016\n"
     ]
    }
   ],
   "source": [
    "result_sum = w.sum()\n",
    "print(\"Sum of all elements in w:\", result_sum)"
   ]
  },
  {
   "cell_type": "code",
   "execution_count": null,
   "id": "e333c100-c050-44c2-96ab-964ee3e83202",
   "metadata": {},
   "outputs": [],
   "source": []
  }
 ],
 "metadata": {
  "kernelspec": {
   "display_name": "Python 3 (ipykernel)",
   "language": "python",
   "name": "python3"
  },
  "language_info": {
   "codemirror_mode": {
    "name": "ipython",
    "version": 3
   },
   "file_extension": ".py",
   "mimetype": "text/x-python",
   "name": "python",
   "nbconvert_exporter": "python",
   "pygments_lexer": "ipython3",
   "version": "3.12.3"
  }
 },
 "nbformat": 4,
 "nbformat_minor": 5
}
